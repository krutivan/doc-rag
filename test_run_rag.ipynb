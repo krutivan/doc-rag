{
 "cells": [
  {
   "cell_type": "code",
   "execution_count": 24,
   "id": "22d44568",
   "metadata": {},
   "outputs": [],
   "source": [
    "import warnings\n",
    "warnings.filterwarnings('ignore')\n",
    "from dotenv import load_dotenv\n",
    "load_dotenv()  # This will load variables from .env into os.environ\n",
    "from IPython.display import Markdown, display\n",
    "from langchain_core.messages import HumanMessage, AIMessage, AnyMessage"
   ]
  },
  {
   "cell_type": "code",
   "execution_count": 6,
   "id": "7172c5ac",
   "metadata": {},
   "outputs": [],
   "source": [
    "from src.services.chat.chat_service import chat_service"
   ]
  },
  {
   "cell_type": "markdown",
   "id": "8b595a1b",
   "metadata": {},
   "source": [
    "##### Helper methods to display rag response"
   ]
  },
  {
   "cell_type": "code",
   "execution_count": 32,
   "id": "42a513fd",
   "metadata": {},
   "outputs": [],
   "source": [
    "response_format = \"\"\"\n",
    "#### Chat Response:\n",
    "{response_message}\n",
    "#### Followup Questions:\n",
    "{follow_up_questions}\n",
    "\"\"\"\n",
    "\n",
    "def get_chat_history_for_display(chat_history: list[AnyMessage]):\n",
    "    lines = [\"<hr>\", \"##### Chat History:\"]\n",
    "    for message in chat_history:\n",
    "        if isinstance(message, HumanMessage):\n",
    "            lines.append(f\"**User:** {message.content}\")\n",
    "        elif isinstance(message, AIMessage):\n",
    "            lines.append(f\"**Assistant:** {message.content}\")\n",
    "    return \"\\n\\n\".join(lines)"
   ]
  },
  {
   "cell_type": "markdown",
   "id": "453a8d3f",
   "metadata": {},
   "source": [
    "## Example 1 - Single Chat message"
   ]
  },
  {
   "cell_type": "code",
   "execution_count": null,
   "id": "867f534f",
   "metadata": {},
   "outputs": [
    {
     "name": "stdout",
     "output_type": "stream",
     "text": [
      "response_message='Ice cream has ancient origins in multiple places. Early versions of ice cream were made in China around 200 BCE by mixing milk with rice and snow. Chilled desserts were also created in Persia around 500 BCE using grape juice and snow. In Rome, Emperor Nero flavored snow with fruit and honey around 37-68 CE.' follow_up_questions='Would you like to know more about how ice cream evolved over the centuries in different regions? Or are you interested in learning about popular ice cream flavors from around the world today?'\n"
     ]
    },
    {
     "data": {
      "text/markdown": [
       "\n",
       "#### Chat Response:\n",
       "Ice cream has ancient origins in multiple places. Early versions of ice cream were made in China around 200 BCE by mixing milk with rice and snow. Chilled desserts were also created in Persia around 500 BCE using grape juice and snow. In Rome, Emperor Nero flavored snow with fruit and honey around 37-68 CE.\n",
       "#### Followup Questions:\n",
       "Would you like to know more about how ice cream evolved over the centuries in different regions? Or are you interested in learning about popular ice cream flavors from around the world today?\n"
      ],
      "text/plain": [
       "<IPython.core.display.Markdown object>"
      ]
     },
     "metadata": {},
     "output_type": "display_data"
    },
    {
     "data": {
      "text/markdown": [
       "<hr>\n",
       "\n",
       "##### Chat History:\n",
       "\n",
       "**User:** Tell icecreams originated in which county? \n",
       "\n",
       "**Assistant:** Ice cream has ancient origins in multiple places. Early versions of ice cream were made in China around 200 BCE by mixing milk with rice and snow. Chilled desserts were also created in Persia around 500 BCE using grape juice and snow. In Rome, Emperor Nero flavored snow with fruit and honey around 37-68 CE."
      ],
      "text/plain": [
       "<IPython.core.display.Markdown object>"
      ]
     },
     "metadata": {},
     "output_type": "display_data"
    }
   ],
   "source": [
    "user_question = \"Tell icecreams originated in which county? \"\n",
    "\n",
    "from langsmith import trace\n",
    "chat_id = chat_service.create_new_chat()\n",
    "with trace('notebook-test-single-chat'):\n",
    "    response = chat_service.chat_message(chat_id, user_question)\n",
    "    display(Markdown(response_format.format(\n",
    "        response_message=response.response_message, \n",
    "        follow_up_questions=response.follow_up_questions)))\n",
    "    display(Markdown(get_chat_history_for_display(chat_service.get_chat_history(chat_id))))\n",
    "        "
   ]
  },
  {
   "cell_type": "markdown",
   "id": "1a957676",
   "metadata": {},
   "source": [
    "## Example 2: - Chat Conversation"
   ]
  },
  {
   "cell_type": "markdown",
   "id": "2851a046",
   "metadata": {},
   "source": [
    "New Chat"
   ]
  },
  {
   "cell_type": "code",
   "execution_count": null,
   "id": "623c9a76",
   "metadata": {},
   "outputs": [
    {
     "data": {
      "text/markdown": [
       "<hr>\n",
       "\n",
       "##### Chat History:\n",
       "\n",
       "**User:** What are some different types of galaxies?\n",
       "\n",
       "**Assistant:** Galaxies can be classified into several types:\n",
       "\n",
       "1. **Spiral Galaxies**: Characterized by flat, rotating disks with spiral arms and a central bulge.\n",
       "\n",
       "2. **Barred Spiral Galaxies**: Similar to spiral galaxies but with a bar-shaped structure of stars extending from the central bulge.\n",
       "\n",
       "3. **Elliptical Galaxies**: Have an ellipsoidal shape, contain older stars, and have minimal star formation.\n",
       "\n",
       "4. **Lenticular Galaxies (S0)**: Intermediate between spiral and elliptical, with a central bulge and disk but no spiral arms.\n",
       "\n",
       "5. **Irregular Galaxies**: Have no defined shape or structure, often resulting from gravitational interactions or collisions.\n",
       "\n",
       "6. **Peculiar and Interacting Galaxies**: Distorted or warped due to gravitational interactions or mergers.\n",
       "\n",
       "**User:** How are they formed?\n",
       "\n",
       "**Assistant:** Galaxies form through a series of processes:\n",
       "\n",
       "1. **Cosmic Origins**: Tiny quantum fluctuations from the Big Bang became density fluctuations, serving as seeds for cosmic structures like galaxies.\n",
       "\n",
       "2. **Dark Matter and Halo Formation**: Dark matter formed halos, which pulled in gas and matter, serving as scaffolding for galaxy formation.\n",
       "\n",
       "3. **Collapse of Gas Clouds**: Within dark matter halos, hydrogen and helium gas cooled and collapsed under gravity, forming protogalaxies and triggering star formation.\n",
       "\n",
       "4. **Birth of the First Stars and Galaxies**: The first stars, Population III stars, formed and clustered into proto-galaxies, the precursors to modern galaxies.\n",
       "\n",
       "5. **Evolution Through Mergers and Accretion**: Protogalaxies and halos merged, forming larger galaxies. Gas accretion from the surroundings also fueled growth and star formation.\n",
       "\n",
       "6. **Disk and Spiral Galaxy Formation**: Rotating gas settled into flattened disks, with spiral structures emerging due to density waves.\n",
       "\n",
       "These processes collectively contributed to the formation and evolution of galaxies into their current forms.\n",
       "\n",
       "**User:** What is Lambda Cold Dark Matter (ΛCDM)\n",
       "\n",
       "**Assistant:** Lambda Cold Dark Matter (ΛCDM) is the standard cosmological model for galaxy formation. It describes the universe as consisting of ordinary matter, cold dark matter, and dark energy, with the latter represented by the cosmological constant (Λ). This model supports the concept of galaxies forming from the \"bottom up,\" starting small and growing larger over time through mergers and accretion."
      ],
      "text/plain": [
       "<IPython.core.display.Markdown object>"
      ]
     },
     "metadata": {},
     "output_type": "display_data"
    }
   ],
   "source": [
    "# new chat\n",
    "chat_id = chat_service.create_new_chat()\n",
    "\n",
    "# planned questions to ask \n",
    "\n",
    "user_question1 = \"What are some different types of galaxies?\"\n",
    "user_question2 = \"How are they formed?\"\n",
    "user_question3 = \"What is Lambda Cold Dark Matter (ΛCDM)\"\n",
    "\n",
    "# call the rag chat service for each of these messages and display history\n",
    "with trace('notebook-test-multi-chat'):\n",
    "    def chat_and_display(chat_id, user_question):\n",
    "        chat_service.chat_message(chat_id, user_question)\n",
    "    chat_and_display(chat_id, user_question1)\n",
    "    chat_and_display(chat_id, user_question2)\n",
    "    chat_and_display(chat_id, user_question3)\n",
    "    display(Markdown(get_chat_history_for_display(chat_service.get_chat_history(chat_id))))"
   ]
  },
  {
   "cell_type": "markdown",
   "id": "ea4164d2",
   "metadata": {},
   "source": []
  }
 ],
 "metadata": {
  "kernelspec": {
   "display_name": "migration_crew",
   "language": "python",
   "name": "python3"
  },
  "language_info": {
   "codemirror_mode": {
    "name": "ipython",
    "version": 3
   },
   "file_extension": ".py",
   "mimetype": "text/x-python",
   "name": "python",
   "nbconvert_exporter": "python",
   "pygments_lexer": "ipython3",
   "version": "3.11.11"
  }
 },
 "nbformat": 4,
 "nbformat_minor": 5
}
